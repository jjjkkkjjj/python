{
 "cells": [
  {
   "cell_type": "code",
   "execution_count": 1,
   "metadata": {},
   "outputs": [
    {
     "data": {
      "text/html": [
       "<script>requirejs.config({paths: { 'plotly': ['https://cdn.plot.ly/plotly-latest.min']},});if(!window.Plotly) {{require(['plotly'],function(plotly) {window.Plotly=plotly;});}}</script>"
      ],
      "text/vnd.plotly.v1+html": [
       "<script>requirejs.config({paths: { 'plotly': ['https://cdn.plot.ly/plotly-latest.min']},});if(!window.Plotly) {{require(['plotly'],function(plotly) {window.Plotly=plotly;});}}</script>"
      ]
     },
     "metadata": {},
     "output_type": "display_data"
    }
   ],
   "source": [
    "import plotly.graph_objs as go\n",
    "import plotly.plotly as py\n",
    "import plotly.offline as offline\n",
    "offline.init_notebook_mode(connected=True)\n",
    "\n",
    "import numpy as np\n",
    "\n",
    "\n",
    "\n",
    "data = np.genfromtxt(fname=\"/Users/junkadonosuke/Desktop/Hisamitsu/3ddata/Motion/IMAMURA07.CSV\", dtype=float, delimiter=',', skip_header=5)\n",
    "data = np.delete(data, [0,1], 1)\n",
    "#print(data)"
   ]
  },
  {
   "cell_type": "code",
   "execution_count": 2,
   "metadata": {},
   "outputs": [
    {
     "data": {
      "application/vnd.plotly.v1+json": {
       "data": [
        {
         "marker": {
          "line": {
           "color": "rgba(217, 217, 217, 0.14)",
           "width": 0.5
          },
          "opacity": 0.8,
          "size": 12
         },
         "mode": "markers",
         "type": "scatter3d",
         "x": [
          -217.585,
          -134.586,
          -309.995,
          -230.736,
          null,
          -157.404,
          -436.204,
          -192.53,
          -419.068,
          -284.425,
          -388.807,
          -94.8214,
          -47.4228,
          43.0501,
          109.23,
          65.2027,
          15.176,
          62.9079,
          -359.34,
          -433.36,
          -550.177,
          -596.238,
          -473.105,
          -445.974,
          -387.172,
          -396.249
         ],
         "y": [
          -1523.05,
          -1461.38,
          -1440.67,
          -1344.37,
          null,
          -1502.84,
          -1438.13,
          -1483.93,
          -1427.78,
          -1637.05,
          -1605.25,
          -1371.75,
          -1486.4,
          -1212.1,
          -1260.36,
          -1074.42,
          -1125.65,
          -1091.17,
          -1321.02,
          -1421.1,
          -1146.75,
          -1172.24,
          -1212.02,
          -1025.09,
          -1068.16,
          -1023.62
         ],
         "z": [
          1616.81,
          1515.59,
          1537.85,
          1309.09,
          null,
          1024.93,
          1048.63,
          910.676,
          918.813,
          975.674,
          975.391,
          1330.94,
          1308.04,
          1191.23,
          1217.47,
          1401.09,
          1423.27,
          1483.87,
          1359.97,
          1359.3,
          1271.14,
          1340.51,
          1348.35,
          1458.26,
          1444.63,
          1525.04
         ]
        }
       ],
       "layout": {
        "margin": {
         "b": 0,
         "l": 0,
         "r": 0,
         "t": 0
        }
       }
      },
      "text/html": [
       "<div id=\"29b1b000-cc57-478b-b72e-340dc3e68cdd\" style=\"height: 525px; width: 100%;\" class=\"plotly-graph-div\"></div><script type=\"text/javascript\">require([\"plotly\"], function(Plotly) { window.PLOTLYENV=window.PLOTLYENV || {};window.PLOTLYENV.BASE_URL=\"https://plot.ly\";Plotly.newPlot(\"29b1b000-cc57-478b-b72e-340dc3e68cdd\", [{\"marker\": {\"opacity\": 0.8, \"line\": {\"color\": \"rgba(217, 217, 217, 0.14)\", \"width\": 0.5}, \"size\": 12}, \"mode\": \"markers\", \"y\": [-1523.05, -1461.38, -1440.67, -1344.37, null, -1502.84, -1438.13, -1483.93, -1427.78, -1637.05, -1605.25, -1371.75, -1486.4, -1212.1, -1260.36, -1074.42, -1125.65, -1091.17, -1321.02, -1421.1, -1146.75, -1172.24, -1212.02, -1025.09, -1068.16, -1023.62], \"x\": [-217.585, -134.586, -309.995, -230.736, null, -157.404, -436.204, -192.53, -419.068, -284.425, -388.807, -94.8214, -47.4228, 43.0501, 109.23, 65.2027, 15.176, 62.9079, -359.34, -433.36, -550.177, -596.238, -473.105, -445.974, -387.172, -396.249], \"z\": [1616.81, 1515.59, 1537.85, 1309.09, null, 1024.93, 1048.63, 910.676, 918.813, 975.674, 975.391, 1330.94, 1308.04, 1191.23, 1217.47, 1401.09, 1423.27, 1483.87, 1359.97, 1359.3, 1271.14, 1340.51, 1348.35, 1458.26, 1444.63, 1525.04], \"type\": \"scatter3d\"}], {\"margin\": {\"r\": 0, \"b\": 0, \"t\": 0, \"l\": 0}}, {\"linkText\": \"Export to plot.ly\", \"showLink\": true})});</script>"
      ],
      "text/vnd.plotly.v1+html": [
       "<div id=\"29b1b000-cc57-478b-b72e-340dc3e68cdd\" style=\"height: 525px; width: 100%;\" class=\"plotly-graph-div\"></div><script type=\"text/javascript\">require([\"plotly\"], function(Plotly) { window.PLOTLYENV=window.PLOTLYENV || {};window.PLOTLYENV.BASE_URL=\"https://plot.ly\";Plotly.newPlot(\"29b1b000-cc57-478b-b72e-340dc3e68cdd\", [{\"marker\": {\"opacity\": 0.8, \"line\": {\"color\": \"rgba(217, 217, 217, 0.14)\", \"width\": 0.5}, \"size\": 12}, \"mode\": \"markers\", \"y\": [-1523.05, -1461.38, -1440.67, -1344.37, null, -1502.84, -1438.13, -1483.93, -1427.78, -1637.05, -1605.25, -1371.75, -1486.4, -1212.1, -1260.36, -1074.42, -1125.65, -1091.17, -1321.02, -1421.1, -1146.75, -1172.24, -1212.02, -1025.09, -1068.16, -1023.62], \"x\": [-217.585, -134.586, -309.995, -230.736, null, -157.404, -436.204, -192.53, -419.068, -284.425, -388.807, -94.8214, -47.4228, 43.0501, 109.23, 65.2027, 15.176, 62.9079, -359.34, -433.36, -550.177, -596.238, -473.105, -445.974, -387.172, -396.249], \"z\": [1616.81, 1515.59, 1537.85, 1309.09, null, 1024.93, 1048.63, 910.676, 918.813, 975.674, 975.391, 1330.94, 1308.04, 1191.23, 1217.47, 1401.09, 1423.27, 1483.87, 1359.97, 1359.3, 1271.14, 1340.51, 1348.35, 1458.26, 1444.63, 1525.04], \"type\": \"scatter3d\"}], {\"margin\": {\"r\": 0, \"b\": 0, \"t\": 0, \"l\": 0}}, {\"linkText\": \"Export to plot.ly\", \"showLink\": true})});</script>"
      ]
     },
     "metadata": {},
     "output_type": "display_data"
    }
   ],
   "source": [
    "x, y, z = np.random.multivariate_normal(np.array([0, 0, 0]), np.eye(3), int(data.shape[1]/3)).transpose()\n",
    "for row in data:\n",
    "    count = 0\n",
    "    tmp = 0\n",
    "    while count < len(row):\n",
    "        x[tmp] = row[count]\n",
    "        y[tmp] = row[count + 1]\n",
    "        z[tmp] = row[count + 2]\n",
    "        tmp += 1\n",
    "        count += 3\n",
    "\n",
    "    trace1 = go.Scatter3d(\n",
    "        x=x,\n",
    "        y=y,\n",
    "        z=z,\n",
    "        mode='markers',\n",
    "        marker=dict(\n",
    "            size=12,\n",
    "            line=dict(\n",
    "                color='rgba(217, 217, 217, 0.14)',\n",
    "                width=0.5\n",
    "            ),\n",
    "            opacity=0.8\n",
    "        )\n",
    "    )\n",
    "    break\n",
    "\n",
    "data = [trace1]\n",
    "layout = go.Layout(\n",
    "    margin=dict(\n",
    "        l=0,\n",
    "        r=0,\n",
    "        b=0,\n",
    "        t=0\n",
    "    )\n",
    ")\n",
    "fig = go.Figure(data=data, layout=layout)\n",
    "offline.iplot(fig, filename=\"/Users/junkadonosuke/Desktop/Hisamitsu/3ddata/Motion/simple-3d-scatter\")"
   ]
  },
  {
   "cell_type": "code",
   "execution_count": null,
   "metadata": {
    "collapsed": true
   },
   "outputs": [],
   "source": []
  }
 ],
 "metadata": {
  "kernelspec": {
   "display_name": "Python 2",
   "language": "python",
   "name": "python2"
  },
  "language_info": {
   "codemirror_mode": {
    "name": "ipython",
    "version": 2
   },
   "file_extension": ".py",
   "mimetype": "text/x-python",
   "name": "python",
   "nbconvert_exporter": "python",
   "pygments_lexer": "ipython2",
   "version": "2.7.13"
  }
 },
 "nbformat": 4,
 "nbformat_minor": 1
}
